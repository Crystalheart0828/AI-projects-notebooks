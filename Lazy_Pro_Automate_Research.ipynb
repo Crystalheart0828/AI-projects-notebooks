{
  "nbformat": 4,
  "nbformat_minor": 0,
  "metadata": {
    "colab": {
      "provenance": [],
      "authorship_tag": "ABX9TyOQFWHJDd4I6l9coKghwdZt",
      "include_colab_link": true
    },
    "kernelspec": {
      "name": "python3",
      "display_name": "Python 3"
    },
    "language_info": {
      "name": "python"
    }
  },
  "cells": [
    {
      "cell_type": "markdown",
      "metadata": {
        "id": "view-in-github",
        "colab_type": "text"
      },
      "source": [
        "<a href=\"https://colab.research.google.com/github/Crystalheart0828/AI-projects-notebooks/blob/main/Lazy_Pro_Automate_Research.ipynb\" target=\"_parent\"><img src=\"https://colab.research.google.com/assets/colab-badge.svg\" alt=\"Open In Colab\"/></a>"
      ]
    },
    {
      "cell_type": "markdown",
      "source": [
        "# Lazy Pro: Automate Research\n",
        "\n",
        "Created with heart and soul by [Karen Ding](https://karending.com)\n",
        "\n",
        "## License and Usage\n",
        "This tutorial is licensed under Creative Commons Attribution 4.0 International (CC BY 4.0)\n",
        "\n",
        "Feel free to use, modify, and share this tutorial!\n",
        "\n",
        "If you find it helpful, please consider:\n",
        "1. Linking back to [the original webpage](https://karending.com/marketing-automation-with-ai/automate-market-research/)\n",
        "2. Mentioning where you learned from it\n",
        "3. Contributing improvements back to help others learn too\n",
        "\n",
        "You are free to:\n",
        "- Use and adapt this tutorial for any purpose\n",
        "- Share, copy, and redistribute in any medium\n",
        "- Modify, remix, and build upon the material\n",
        "\n",
        "For the full license details: https://creativecommons.org/licenses/by/4.0/"
      ],
      "metadata": {
        "id": "tZ6h4xEoYJnD"
      }
    },
    {
      "cell_type": "markdown",
      "source": [
        "\n",
        "\n",
        "---\n",
        "\n"
      ],
      "metadata": {
        "id": "zDyGTkOqXJk7"
      }
    },
    {
      "cell_type": "markdown",
      "source": [
        "## Overview"
      ],
      "metadata": {
        "id": "Y-ZNdq9byXCh"
      }
    },
    {
      "cell_type": "markdown",
      "source": [
        "**Lazy Pro: Automate Research** is a powerful tool that automates the process of collecting and organizing AI-related news articles. It performs two main functions:\n",
        "\n",
        "1.   Collecting relevant news articles using the **[News API](https://newsapi.org/)** and export the news to Google Sheet\n",
        "2.   Filter the news based on your need\n"
      ],
      "metadata": {
        "id": "D3JhZg7oydGW"
      }
    },
    {
      "cell_type": "markdown",
      "source": [
        "## Prerequisites (Your Key Ingredients! 🧰)"
      ],
      "metadata": {
        "id": "lIicTA2Fyyhf"
      }
    },
    {
      "cell_type": "markdown",
      "source": [
        "#### **Google Sheet API** and **Google Cloud Credential**\n",
        "Don’t know what this is? No worries—I’ve been there too! Simply ask any LLM (e.g., ChatGPT, Claude, Gemini, etc.) the following prompt:\n",
        "\n",
        "> I’m new to Google Cloud Console and haven’t built a project yet. Could you please walk me through the step-by-step process to download the credentials file and activate the Google Sheets API?\n",
        "\n",
        "#### **News API Key**\n",
        "News API will serve as the news source for this tool. Click the \"Get API Key\" button in the top-right corner, retrieve your API key, and store it in a secure document.\n",
        "\n",
        "What is an API key? Think of it as a house key for accessing a data warehouse.\n",
        "\n",
        "As you become more advanced, you can replace the News API with another news source or even create a web crawler to collect news data directly.\n",
        "\n",
        "#### **Google Colab**\n",
        "Google Colab is a fantastic cloud-based IDE (Integrated Development Environment). Like Google Docs, your scripts are saved in your Google Drive and can be easily shared with others. Simply sign in to Google Colab with your Google account, and you’re ready to get started.\n",
        "\n",
        "In this tutorial, I’ll use Google Colab to demonstrate the steps. However, there are many other IDEs available. If you choose to use a different IDE, you may need to tweak the scripts to ensure the variables are configured correctly.\n",
        "\n",
        "#### **Google Sheet**\n",
        "Google Sheets will serve as the location for the news query. To find the Google Sheet ID, check the hyperlink or ask an LLM, \"How do I find my Google Sheet ID?\"\n"
      ],
      "metadata": {
        "id": "wAmENEoJyutK"
      }
    },
    {
      "cell_type": "markdown",
      "source": [
        "## Step-by-Step Guide"
      ],
      "metadata": {
        "id": "oJ2i-ZZE0giH"
      }
    },
    {
      "cell_type": "markdown",
      "source": [
        "### **Step 1: Setting Up Your Environment 🛠️**\n",
        "What's happening here: Think of this as preparing your kitchen before cooking. We're getting all our tools ready by installing the necessary Python packages. Just like you can't cook without pots and pans, you can't run the script without these packages!\n",
        "\n",
        "We are going to install the following Python packages:\n",
        "* newsapi-python (for getting news articles)\n",
        "* google-auth (for Google authentication)\n",
        "* google-api-python-client (for using Google services)\n",
        "* gspread (for working with Google Sheets)\n",
        "* requests (for making internet requests)\n"
      ],
      "metadata": {
        "id": "_iu1810p0ui7"
      }
    },
    {
      "cell_type": "code",
      "source": [
        "pip install newsapi-python google-auth google-api-python-client gspread requests"
      ],
      "metadata": {
        "id": "l2Hmf21I8Urj"
      },
      "execution_count": null,
      "outputs": []
    },
    {
      "cell_type": "markdown",
      "source": [
        "### **Step 2: Importing Required Tools 📚**\n",
        "What's happening here: Now we're bringing in all the tools we'll need. It's like taking out all the utensils and ingredients from your kitchen cabinets before starting to cook."
      ],
      "metadata": {
        "id": "ICO3J1M38ft2"
      }
    },
    {
      "cell_type": "code",
      "source": [
        "import gspread\n",
        "from google.oauth2.service_account import Credentials\n",
        "from newsapi import NewsApiClient\n",
        "import json\n",
        "\n",
        "import requests\n",
        "from googleapiclient.discovery import build\n",
        "from datetime import datetime\n",
        "\n",
        "import time\n",
        "\n",
        "from google.colab import userdata\n",
        "import os"
      ],
      "metadata": {
        "id": "h87MI-jJYXm4"
      },
      "execution_count": null,
      "outputs": []
    },
    {
      "cell_type": "markdown",
      "source": [
        "### **Step 3: Setting Up Google Authentication 🔑**\n",
        "What's happening here: This is like showing your ID to enter a restricted area. We're telling Google who we are and what we want to do with their services (in this case, use Google Sheets and Drive)."
      ],
      "metadata": {
        "id": "HR0gK9DYyi-7"
      }
    },
    {
      "cell_type": "markdown",
      "source": [
        "#### If you are first time uploading the google credential file, check this:\n",
        "\n",
        "*   Click the folder icon on the left hand side, and upload your Google Cloud Credential file (a .json file).\n",
        "![Screenshot 2025-01-16 at 20.03.58.png](data:image/png;base64,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)\n",
        "*   Click the three dot menu on your Google Cloud Credential file, click \"Copy path\"\n",
        "*   Paste the value (which should be a directory path) to the following variable `credential_path`\n",
        "\n",
        "\n",
        "\n"
      ],
      "metadata": {
        "id": "-pOtAfGc8nh3"
      }
    },
    {
      "cell_type": "code",
      "source": [
        "# Define the scope and authorize the credentials\n",
        "SCOPES = [\"https://www.googleapis.com/auth/spreadsheets\", \"https://www.googleapis.com/auth/drive\"]\n",
        "credentials_path = 'your_credentials_file.json'  # Replace with your actual credentials file path\n",
        "creds = Credentials.from_service_account_file(credentials_path, scopes=SCOPES)\n",
        "\n",
        "# Initialize gspread client\n",
        "client = gspread.authorize(creds)"
      ],
      "metadata": {
        "id": "Vyx0W6kcYYvV"
      },
      "execution_count": null,
      "outputs": []
    },
    {
      "cell_type": "markdown",
      "source": [
        "### **Step 4: Configuring Your Research Parameters in Colab** ⚙️\n",
        "What's happening here: Instead of hardcoding our sensitive information directly in the code (which isn't secure!), we'll use Google Colab's built-in Secrets feature. Think of Secrets as a secure vault for storing your private information.\n",
        "\n",
        "First, let's set up your secrets:\n",
        "\n",
        "1. Click on the folder icon 📁 in the left sidebar of Colab\n",
        "2. Click on the 🔒 icon (Secrets) at the bottom of the file browser\n",
        "3. Add the following secrets by clicking \"Add new secret\":\n",
        "\n",
        "Required secrets to add:\n",
        "\n",
        "* news_api: Your NewsAPI key\n",
        "* sheet_id: Your Google Sheet ID\n",
        "* starting_date: Start date for news collection (format: YYYY-MM-DD)\n",
        "* ending_date: End date for news collection (format: YYYY-MM-DD)\n",
        "\n",
        "Here's how to access these secrets in your code:"
      ],
      "metadata": {
        "id": "_F0T_QZt0VGt"
      }
    },
    {
      "cell_type": "code",
      "source": [
        "from google.colab import userdata\n",
        "\n",
        "# Safely get your configuration from Colab Secrets\n",
        "news_api_key = userdata.get('news_api')\n",
        "sheet_id = userdata.get('sheet_id')\n",
        "starting_date = userdata.get('starting_date')\n",
        "ending_date = userdata.get('ending_date')\n",
        "\n",
        "# Your keywords list\n",
        "keywords = [\"Keyword A\", \"Keyword B\", \"Keyword C\", \"Keyword D\", \"Keyword E\"]  # Modify these based on your research needs\n",
        "language = \"en\" # Replace with your desired search language, eg. en (English), es (Spanish), fr(French), zh(Chinese), de(German)...etc.\n"
      ],
      "metadata": {
        "id": "v3ZZ97lJSL6a"
      },
      "execution_count": null,
      "outputs": []
    },
    {
      "cell_type": "markdown",
      "source": [
        "### **Step 5: Running the Research Process 🔄**\n",
        "What's happening here: This is where the magic happens! The script will automatically:\n",
        "\n",
        "* Search for news articles about your chosen topics\n",
        "* Collect all the relevant information\n",
        "* Organize it neatly in a Google Sheet"
      ],
      "metadata": {
        "id": "jeXYxb9E4_2Y"
      }
    },
    {
      "cell_type": "markdown",
      "source": [
        "#### a. Connect NewsAPI"
      ],
      "metadata": {
        "id": "wWORvUb_YhDf"
      }
    },
    {
      "cell_type": "code",
      "source": [
        "# Init\n",
        "newsapi = NewsApiClient(api_key = userdata.get('news_api_key'))"
      ],
      "metadata": {
        "id": "0z7EAucwYbLT"
      },
      "execution_count": null,
      "outputs": []
    },
    {
      "cell_type": "markdown",
      "source": [
        "#### b. Build Functions"
      ],
      "metadata": {
        "id": "FRi3TWrKZ5zt"
      }
    },
    {
      "cell_type": "markdown",
      "source": [
        "##### Export The News to Google Sheet"
      ],
      "metadata": {
        "id": "AlYWnZCJZ73k"
      }
    },
    {
      "cell_type": "code",
      "source": [
        "def export_to_google_sheet(all_articles, sheet_id, sheet_name):\n",
        "    # Open the Google Sheet and add a new worksheet or access an existing one\n",
        "    sheet = client.open_by_key(sheet_id)\n",
        "    try:\n",
        "        worksheet = sheet.worksheet(sheet_name)\n",
        "        worksheet.clear()\n",
        "    except gspread.exceptions.WorksheetNotFound:\n",
        "        worksheet = sheet.add_worksheet(title=sheet_name, rows=\"100\", cols=\"20\")\n",
        "\n",
        "    # Prepare the header\n",
        "    header = [\"Title\", \"Author\", \"Source\", \"Published At\", \"Description\", \"URL\", \"Content\"]\n",
        "    worksheet.append_row(header)\n",
        "\n",
        "    # Prepare the data rows for batch update\n",
        "    rows = []\n",
        "    for article in all_articles['articles']:\n",
        "        title = article.get('title', 'No Title')\n",
        "        author = article.get('author', 'No Author')\n",
        "        source = article['source']['name']\n",
        "        published_at = article.get('publishedAt')\n",
        "        description = article.get('description', 'No Description')\n",
        "        url = article.get('url', 'No URL')\n",
        "        content = article.get('content', 'No Content')\n",
        "\n",
        "        rows.append([title, author, source, published_at, description, url, content])\n",
        "\n",
        "    # Perform batch update\n",
        "    if rows:\n",
        "        worksheet.append_rows(rows)\n",
        "\n",
        "    print(f\"Articles exported successfully to the sheet: https://docs.google.com/spreadsheets/d/{sheet_id}/edit#gid={worksheet.id}\")\n"
      ],
      "metadata": {
        "id": "Ph_WN8SGZ47W"
      },
      "execution_count": null,
      "outputs": []
    },
    {
      "cell_type": "markdown",
      "source": [
        "#### c. Query News API\n",
        "\n",
        "*   You can update the parameters to have advanced queries based on your need. Check [the official documentation](https://newsapi.org/docs/client-libraries/python) to know how it works.\n",
        "\n",
        "\n"
      ],
      "metadata": {
        "id": "kY0WYFbzaI93"
      }
    },
    {
      "cell_type": "code",
      "source": [
        "# Function to query NewsAPI for a given keyword\n",
        "def query_news_api(keyword, starting_date, ending_date, pages):\n",
        "    all_articles = newsapi.get_everything(q=keyword,\n",
        "                                          sources=None,\n",
        "                                          domains=None,\n",
        "                                          from_param= starting_date,\n",
        "                                          to= ending_date,\n",
        "                                          language='en',\n",
        "                                          sort_by='relevancy',\n",
        "                                          page= pages)\n",
        "    return all_articles"
      ],
      "metadata": {
        "id": "nAWAZmdRYcJr"
      },
      "execution_count": null,
      "outputs": []
    },
    {
      "cell_type": "markdown",
      "source": [
        "#### d. Process multiple keywords"
      ],
      "metadata": {
        "id": "8ubi1buebHkX"
      }
    },
    {
      "cell_type": "code",
      "source": [
        "def process_keywords(keywords, starting_date, ending_date, pages, sheet_id):\n",
        "    for keyword in keywords:\n",
        "        print(f\"Processing keyword: {keyword}\")\n",
        "        # Query the News API for the current keyword\n",
        "        all_articles = query_news_api(keyword, starting_date, ending_date, pages)\n",
        "\n",
        "        # Use the keyword directly as the sheet name\n",
        "        sheet_name = keyword  # Assuming the tab in the Google Sheet has the exact same name as the keyword\n",
        "\n",
        "        # Export the articles to the specific sheet/tab named after the keyword\n",
        "        export_to_google_sheet(all_articles, sheet_id, sheet_name)\n",
        "        print(f\"Finished processing for keyword: {keyword}\")"
      ],
      "metadata": {
        "id": "SFSJ9VPfYce0"
      },
      "execution_count": null,
      "outputs": []
    },
    {
      "cell_type": "markdown",
      "source": [
        "#### e.Run Main Function"
      ],
      "metadata": {
        "id": "jhGOZM7jbL8P"
      }
    },
    {
      "cell_type": "code",
      "source": [
        "if __name__ == \"__main__\":\n",
        "    keywords = [\"Keyword A\",\"Keyword B\", \"Keyword C\", \"Keyword D\", \"Keyword E\"]\n",
        "    starting_date = starting_date\n",
        "    ending_date = ending_date\n",
        "    pages = 5\n",
        "    sheet_id = sheet_id\n",
        "\n",
        "    process_keywords(keywords, starting_date, ending_date, pages, sheet_id)"
      ],
      "metadata": {
        "id": "tmCq855bYcuX"
      },
      "execution_count": null,
      "outputs": []
    },
    {
      "cell_type": "markdown",
      "source": [
        "### **Final Step: Pro Tips for Colab Users!** 💡\n",
        "1. Your Colab secrets are secure and won't be visible in your notebook's output or shared versions\n",
        "2. Remember to set up your secrets before running the notebook\n",
        "3. If you're sharing your notebook, the secrets won't be shared - each user needs to set up their own\n",
        "4. Colab sessions expire after a while, so you might need to rerun the authentication steps\n",
        "5. To avoid timeouts during long research sessions, you can go to Runtime → Change runtime type and select a GPU or TPU runtime for better performance"
      ],
      "metadata": {
        "id": "kBDdsVSgS5pM"
      }
    },
    {
      "cell_type": "markdown",
      "source": [
        "© 2025 Karen Ding. Created with heart and soul. Find more tutorials at [karending.com](https://karending.com)"
      ],
      "metadata": {
        "id": "-_8er7vIW99V"
      }
    }
  ]
}